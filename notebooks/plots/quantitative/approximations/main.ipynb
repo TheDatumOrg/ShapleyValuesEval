{
 "cells": [
  {
   "cell_type": "code",
   "execution_count": null,
   "metadata": {},
   "outputs": [],
   "source": [
    "import os\n",
    "import numpy as np\n",
    "import pandas as pd\n",
    "import seaborn as sns\n",
    "import math\n",
    "from sklearn.metrics import mean_squared_error\n",
    "from sklearn.metrics import r2_score"
   ]
  },
  {
   "cell_type": "code",
   "execution_count": null,
   "metadata": {},
   "outputs": [],
   "source": [
    "nn = pd.read_csv(\"github/plots/quantitative/approximations/tables/nn.csv\")\n",
    "linear = pd.read_csv(\"github/plots/quantitative/approximations/tables/linear.csv\")\n",
    "tree = pd.read_csv(\"github/plots/quantitative/approximations/tables/tree.csv\")\n",
    "agnostic = pd.read_csv(\"github/plots/quantitative/approximations/tables/agnostic.csv\")\n"
   ]
  },
  {
   "cell_type": "code",
   "execution_count": null,
   "metadata": {},
   "outputs": [],
   "source": [
    "import matplotlib.pyplot as plt\n",
    "import seaborn as sns\n",
    "import pandas as pd\n",
    "magma_palette = [\n",
    "    \"#000004\", \"#1a0004\", \"#380004\", \"#4e0007\", \"#68000c\", \"#7f000e\", \"#950012\", \"#aa0017\",\n",
    "    \"#bd0021\", \"#cf002c\", \"#e0003a\", \"#f0004a\", \"#ff005c\", \"#ff1e6e\", \"#ff407d\", \"#ff628b\",\n",
    "    \"#ff8196\", \"#fa9fa6\", \"#f8b5b4\", \"#f2ccc9\", \"#ebded2\", \"#e5f0db\", \"#ddf6e6\", \"#d3f8ed\",\n",
    "    \"#c4f9f1\", \"#b4f9f6\", \"#a3faf9\", \"#91fafa\", \"#7ffafb\", \"#6cfafa\", \"#5af9f9\", \"#49f8f6\",\n",
    "    \"#3af7f2\", \"#2cf5ed\", \"#20f2e7\", \"#1af0df\", \"#17eed6\", \"#18ebcc\", \"#1de7c3\", \"#24e2ba\",\n",
    "    \"#2bdeb1\", \"#34d9a9\", \"#3fd4a1\", \"#4dce99\", \"#5cc891\", \"#6fc189\", \"#81b97f\", \"#95b077\",\n",
    "    \"#abb66e\", \"#c1b766\", \"#d7b75f\", \"#edba59\", \"#ffb84f\"\n",
    "]\n"
   ]
  },
  {
   "cell_type": "code",
   "execution_count": null,
   "metadata": {},
   "outputs": [],
   "source": [
    "plt.figure(figsize=(4, 3))\n",
    "color = ['#003f5c','#58508d','#bc5090','#ff6361','#ffa600']\n",
    "# edgecolor = ['black','red','green','orange','blue']\n",
    "\n",
    "ax = sns.barplot(nn, x='Model', y='Time', hue='Approximation', palette=\"magma\", errorbar=None)\n",
    "plt.yscale('log')\n",
    "# plt.grid(axis='x', linestyle='-', alpha=0.25)\n",
    "# plt.grid(axis='y', linestyle='-', alpha=0.25)     \n",
    "ax.set_xticks([])\n",
    "ax.set\n",
    "plt.xlabel(\"Neural Networks\", fontdict={'size':10}, loc='center')\n",
    "plt.ylabel(\"Compute time (sec)\", fontdict={'size':10}, loc='center')\n",
    "plt.legend(bbox_to_anchor=(0.48, 1.5), ncols=2, loc='upper center', fontsize=8)\n",
    "plt.savefig('github/plots/quantitative/approximations/time/nn.pdf')\n"
   ]
  },
  {
   "cell_type": "code",
   "execution_count": null,
   "metadata": {},
   "outputs": [],
   "source": [
    "plt.figure(figsize=(4, 3))\n",
    "color = ['#003f5c','#58508d','#bc5090','#ff6361','#ffa600']\n",
    "# edgecolor = ['black','red','green','orange','blue']\n",
    "\n",
    "ax = sns.barplot(linear, x='Model', y='Time', hue='Approximation', palette=\"magma\", errorbar=None)\n",
    "plt.yscale('log')\n",
    "plt.grid(axis='x', linestyle='-', alpha=0.25)\n",
    "plt.grid(axis='y', linestyle='-', alpha=0.25)     \n",
    "ax.set_xticks([])\n",
    "ax.set\n",
    "plt.xlabel(\"Linear models\", fontdict={'size':10}, loc='center')\n",
    "plt.ylabel(\"Compute time per instance (in seconds)\", fontdict={'size':10}, loc='center')\n",
    "plt.legend(bbox_to_anchor=(0.48, 1.5), ncols=2, loc='upper center', fontsize=8)\n",
    "plt.savefig('github/plots/quantitative/approximations/time/linear.pdf')\n"
   ]
  },
  {
   "cell_type": "code",
   "execution_count": null,
   "metadata": {},
   "outputs": [],
   "source": [
    "plt.figure(figsize=(4, 3))\n",
    "color = ['#003f5c','#58508d','#bc5090','#ff6361','#ffa600']\n",
    "# edgecolor = ['black','red','green','orange','blue']\n",
    "\n",
    "ax = sns.barplot(tree, x='Model', y='Time', hue='Approximation', palette=\"magma\", errorbar=None)\n",
    "plt.yscale('log')\n",
    "plt.grid(axis='x', linestyle='-', alpha=0.25)\n",
    "plt.grid(axis='y', linestyle='-', alpha=0.25)     \n",
    "ax.set_xticks([])\n",
    "ax.set\n",
    "plt.xlabel(\"Tree models\", fontdict={'size':10}, loc='center')\n",
    "plt.ylabel(\"Compute time per instance (in seconds)\", fontdict={'size':10}, loc='center')\n",
    "plt.legend(bbox_to_anchor=(0.48, 1.5), ncols=2, loc='upper center', fontsize=8)\n",
    "plt.savefig('github/plots/quantitative/approximations/time/tree.pdf')\n"
   ]
  },
  {
   "cell_type": "code",
   "execution_count": null,
   "metadata": {},
   "outputs": [],
   "source": [
    "plt.figure(figsize=(4, 3))\n",
    "color = ['#003f5c','#58508d','#bc5090','#ff6361','#ffa600']\n",
    "# edgecolor = ['black','red','green','orange','blue']\n",
    "\n",
    "ax = sns.barplot(agnostic, x='Model', y='Time', hue='Approximation', palette=\"magma\", errorbar=None)\n",
    "plt.yscale('log')\n",
    "plt.grid(axis='x', linestyle='-', alpha=0.25)\n",
    "plt.grid(axis='y', linestyle='-', alpha=0.25)     \n",
    "ax.set_xticks([])\n",
    "ax.set\n",
    "plt.xlabel(\"Model-Agnostic\", fontdict={'size':10}, loc='center')\n",
    "plt.ylabel(\"Compute time per instance (in seconds)\", fontdict={'size':10}, loc='center')\n",
    "plt.legend(bbox_to_anchor=(0.48, 1.5), ncols=2, loc='upper center', fontsize=8)\n",
    "plt.savefig('github/plots/quantitative/approximations/time/agnostic.pdf')\n"
   ]
  },
  {
   "cell_type": "code",
   "execution_count": null,
   "metadata": {},
   "outputs": [],
   "source": [
    "linear_pivoted = linear.iloc[:, 1:].pivot(index='Dataset', columns='Approximation', values='Accuracy')\n",
    "nn_pivoted = nn.iloc[:, 1:].pivot(index='Dataset', columns='Approximation', values='Accuracy')\n",
    "tree_pivoted = tree.iloc[:, 1:].pivot(index='Dataset', columns='Approximation', values='Accuracy')\n",
    "agnostic_pivoted = agnostic.iloc[:, 1:].pivot(index='Dataset', columns='Approximation', values='Accuracy')"
   ]
  },
  {
   "cell_type": "code",
   "execution_count": null,
   "metadata": {},
   "outputs": [],
   "source": [
    "metric = 'Accuracy'\n",
    "methods = linear_pivoted.columns\n",
    "means = dict()\n",
    "for method in methods:\n",
    "    plt.figure(figsize=(10, 1))\n",
    "    sns.boxplot(data=linear_pivoted[linear_pivoted[method]>99.5][method], orient='h', color='white', linewidth=3.5, showcaps=True, whiskerprops={'linewidth':3.5}, boxprops={'edgecolor':'black'}, medianprops={'color':'blue'}, showfliers=False)\n",
    "\n",
    "\n",
    "    mean_value = linear_pivoted[linear_pivoted[method]>99.5][method].mean()\n",
    "    means[method] = mean_value\n",
    "    # print(method)\n",
    "    plt.vlines(mean_value, ymin=-0.4, ymax=0.4, color='red', linestyles='dotted', linewidth=3.5)\n",
    "    plt.axis('off')\n",
    "    plt.savefig(f'boxplot/linear/{method}_{metric}.pdf')"
   ]
  },
  {
   "cell_type": "code",
   "execution_count": null,
   "metadata": {},
   "outputs": [],
   "source": [
    "metric = 'Accuracy'\n",
    "methods = nn_pivoted.columns\n",
    "means = dict()\n",
    "for method in methods:\n",
    "    plt.figure(figsize=(10, 1))\n",
    "    sns.boxplot(data=nn_pivoted[nn_pivoted[method]>99.5][method], orient='h', color='white', linewidth=3.5, showcaps=True, whiskerprops={'linewidth':3.5}, boxprops={'edgecolor':'black'}, medianprops={'color':'blue'}, showfliers=False)\n",
    "\n",
    "\n",
    "    mean_value = nn_pivoted[nn_pivoted[method]>99.5][method].mean()\n",
    "    means[method] = mean_value\n",
    "    # print(method)\n",
    "    plt.vlines(mean_value, ymin=-0.4, ymax=0.4, color='red', linestyles='dotted', linewidth=3.5)\n",
    "    plt.axis('off')\n",
    "    plt.savefig(f'boxplot/nn/{method}_{metric}.pdf')"
   ]
  },
  {
   "cell_type": "code",
   "execution_count": null,
   "metadata": {},
   "outputs": [],
   "source": [
    "metric = 'Accuracy'\n",
    "methods = tree_pivoted.columns\n",
    "means = dict()\n",
    "for method in methods:\n",
    "    plt.figure(figsize=(10, 1))\n",
    "    sns.boxplot(data=tree_pivoted[tree_pivoted[method]>99.5][method], orient='h', color='white', linewidth=3.5, showcaps=True, whiskerprops={'linewidth':3.5}, boxprops={'edgecolor':'black'}, medianprops={'color':'blue'}, showfliers=False)\n",
    "\n",
    "\n",
    "    mean_value = tree_pivoted[tree_pivoted[method]>99.5][method].mean()\n",
    "    means[method] = mean_value\n",
    "    # print(method)\n",
    "    plt.vlines(mean_value, ymin=-0.4, ymax=0.4, color='red', linestyles='dotted', linewidth=3.5)\n",
    "    plt.axis('off')\n",
    "    plt.savefig(f'boxplot/tree/{method}_{metric}.pdf')"
   ]
  },
  {
   "cell_type": "code",
   "execution_count": null,
   "metadata": {},
   "outputs": [],
   "source": [
    "metric = 'Accuracy'\n",
    "methods = agnostic_pivoted.columns\n",
    "means = dict()\n",
    "for method in methods:\n",
    "    plt.figure(figsize=(10, 1))\n",
    "    sns.boxplot(data=agnostic_pivoted[agnostic_pivoted[method]>99.5][method], orient='h', color='white', linewidth=3.5, showcaps=True, whiskerprops={'linewidth':3.5}, boxprops={'edgecolor':'black'}, medianprops={'color':'blue'}, showfliers=False)\n",
    "\n",
    "\n",
    "    mean_value = agnostic_pivoted[agnostic_pivoted[method]>99.5][method].mean()\n",
    "    means[method] = mean_value\n",
    "    # print(method)\n",
    "    plt.vlines(mean_value, ymin=-0.4, ymax=0.4, color='red', linestyles='dotted', linewidth=3.5)\n",
    "    plt.axis('off')\n",
    "    plt.savefig(f'boxplot/agnostic/{method}_{metric}.pdf')"
   ]
  },
  {
   "cell_type": "code",
   "execution_count": null,
   "metadata": {},
   "outputs": [],
   "source": [
    "df = pd.read_csv('github/plots/quantitative/approximations/tables/tradeoff.csv')\n",
    "plt.figure(figsize=(24, 8))\n",
    "categories = df['Approximation'].unique()\n",
    "\n",
    "print(categories)\n",
    "markers = ['o', 's', 'D', '^', 'v', '>', '<', '+', 'x', '*', '.', ',', 'd', 'h', 'H', 'p']\n",
    "sns.scatterplot(df, x=df['Time'], y=df['Accuracy'], hue=df['Approximation'], style=df['Approximation'], s=500)\n",
    "\n",
    "plt.xlabel('Compute time (sec)', fontsize=28)\n",
    "plt.ylabel('Accuracy (%)', fontsize=28)\n",
    "plt.xticks(fontsize=22)\n",
    "plt.yticks(fontsize=22)\n",
    "plt.legend(loc='upper center', bbox_to_anchor=(0.5, 1.35), ncol=4, fontsize=22)\n",
    "plt.xscale('log')\n",
    "plt.savefig('tradeoff.pdf')"
   ]
  },
  {
   "cell_type": "code",
   "execution_count": null,
   "metadata": {},
   "outputs": [],
   "source": [
    "import seaborn as sns\n",
    "import pandas as pd\n",
    "import matplotlib.pyplot as plt\n",
    "\n",
    "time_df = pd.read_csv('github/plots/quantitative/approximations/tables/time_estimation.csv')\n",
    "plt.figure(figsize=(12,8))\n",
    "ax = sns.lineplot(time_df, x='Features', y='Time', hue='Method', ci=None)\n",
    "ax.set_yscale('log')\n",
    "ax.legend(loc='upper right',  fontsize=22, ncols=2)\n",
    "ax.set_xlabel('Number of features', fontsize=28)\n",
    "ax.set_ylabel('Compute time (sec)', fontsize=28)\n",
    "plt.title(\"(a) Estimation Strategies\", fontsize=36)\n",
    "plt.xticks(fontsize=22)\n",
    "plt.yticks(fontsize=22)\n",
    "plt.savefig('dimensionality_estimation.pdf')\n"
   ]
  },
  {
   "cell_type": "code",
   "execution_count": null,
   "metadata": {},
   "outputs": [],
   "source": [
    "import seaborn as sns\n",
    "import pandas as pd\n",
    "time_df = pd.read_csv('github/plots/quantitative/approximations/tables/time_approaches.csv')\n",
    "\n",
    "plt.figure(figsize=(12,8))\n",
    "ax = sns.lineplot(time_df, x='Features', y='Time', hue='Approximation', ci=None)\n",
    "ax.set_yscale('log')\n",
    "ax.legend(loc='upper right', ncol=2, fontsize=15)\n",
    "ax.set_xlabel('Number of features', fontsize=28)\n",
    "ax.set_ylabel('Compute time (sec)', fontsize=28)\n",
    "plt.title(\"(b) Approaches\", fontsize=36)\n",
    "\n",
    "plt.xticks(fontsize=22)\n",
    "plt.yticks(fontsize=22)\n",
    "plt.savefig('tradeoff.pdf')\n",
    "plt.savefig('dimensionality_approaches.pdf')\n"
   ]
  },
  {
   "cell_type": "code",
   "execution_count": null,
   "metadata": {},
   "outputs": [],
   "source": []
  }
 ],
 "metadata": {
  "kernelspec": {
   "display_name": "shap_torch",
   "language": "python",
   "name": "python3"
  },
  "language_info": {
   "codemirror_mode": {
    "name": "ipython",
    "version": 3
   },
   "file_extension": ".py",
   "mimetype": "text/x-python",
   "name": "python",
   "nbconvert_exporter": "python",
   "pygments_lexer": "ipython3",
   "version": "3.10.13"
  }
 },
 "nbformat": 4,
 "nbformat_minor": 2
}
